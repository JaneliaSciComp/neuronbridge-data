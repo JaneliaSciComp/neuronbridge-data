{
 "cells": [
  {
   "cell_type": "markdown",
   "metadata": {},
   "source": [
    "# Generate an AWS CLI command to sync GitHub NeuronBridge data to S3"
   ]
  },
  {
   "cell_type": "code",
   "execution_count": null,
   "metadata": {},
   "outputs": [],
   "source": [
    "import os\n",
    "import sys\n",
    "BASE = \"janelia-neuronbridge-data\"\n",
    "MANIFOLDS = ['dev', 'prod', 'devpre', 'prodpre']"
   ]
  },
  {
   "cell_type": "markdown",
   "metadata": {},
   "source": [
    "Set the manifold to upload below [dev, prod, devpre, prodpre]:"
   ]
  },
  {
   "cell_type": "code",
   "execution_count": null,
   "metadata": {},
   "outputs": [],
   "source": [
    "manifold = \"devpre\""
   ]
  },
  {
   "cell_type": "code",
   "execution_count": null,
   "metadata": {},
   "outputs": [],
   "source": [
    "if manifold not in MANIFOLDS:\n",
    "    print(f\"{manifold} is not a valid manfold\")\n",
    "    sys.exit(-1)\n",
    "dir = \"-\".join([BASE, manifold])\n",
    "if dir not in os.listdir():\n",
    "    print(f\"Directory {dir} does not exist\")\n",
    "    sys.exit(-1)\n",
    "dir_list = os.listdir(dir)\n",
    "versions = sorted([vdir for vdir in dir_list \\\n",
    "                   if vdir.startswith(\"v\") and os.path.exists(\"/\".join([dir, vdir, \"schemas\"]))])\n",
    "print(f\"Valid versions: {', '.join(versions)}\")"
   ]
  },
  {
   "cell_type": "markdown",
   "metadata": {},
   "source": [
    "Set the version below:"
   ]
  },
  {
   "cell_type": "code",
   "execution_count": null,
   "metadata": {},
   "outputs": [],
   "source": [
    "version = \"v3_0_0\""
   ]
  },
  {
   "cell_type": "code",
   "execution_count": null,
   "metadata": {},
   "outputs": [],
   "source": [
    "if version not in versions:\n",
    "    print(f\"{version} is not a valid version\")\n",
    "    sys.exit(-1)\n",
    "base_dir = \"/\".join([dir, version])\n",
    "if not os.path.exists(base_dir):\n",
    "    print(f\"{base_dir} does not exist\")\n",
    "source_dir = \"/\".join([os.getcwd(), base_dir])\n",
    "source_dir_list = os.listdir(source_dir)\n",
    "target_dir = \"/\".join([\"s3:/\", dir, version])\n",
    "print(f\"Use the following commands to sync {base_dir} to AWS S3:\\n\")\n",
    "for source in source_dir_list:\n",
    "    if os.path.isdir(f\"{source_dir}/{source}\"):\n",
    "        print(f\"aws s3 sync {source_dir}/{source} {target}/{source}\")\n",
    "    else:\n",
    "        print(f\"aws s3 cp {source_dir}/{source} {target}/{source}\")"
   ]
  },
  {
   "cell_type": "code",
   "execution_count": null,
   "metadata": {},
   "outputs": [],
   "source": []
  }
 ],
 "metadata": {
  "kernelspec": {
   "display_name": "Python 3",
   "language": "python",
   "name": "python3"
  },
  "language_info": {
   "codemirror_mode": {
    "name": "ipython",
    "version": 3
   },
   "file_extension": ".py",
   "mimetype": "text/x-python",
   "name": "python",
   "nbconvert_exporter": "python",
   "pygments_lexer": "ipython3",
   "version": "3.8.1"
  }
 },
 "nbformat": 4,
 "nbformat_minor": 4
}
